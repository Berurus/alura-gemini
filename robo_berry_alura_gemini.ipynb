{
  "nbformat": 4,
  "nbformat_minor": 0,
  "metadata": {
    "colab": {
      "provenance": []
    },
    "kernelspec": {
      "name": "python3",
      "display_name": "Python 3"
    },
    "language_info": {
      "name": "python"
    }
  },
  "cells": [
    {
      "cell_type": "code",
      "execution_count": 1,
      "metadata": {
        "id": "M-6s4X-vLaRD"
      },
      "outputs": [],
      "source": [
        "from rich import print as rprint\n",
        "from rich.style import Style"
      ]
    },
    {
      "cell_type": "code",
      "source": [
        "import random\n",
        "from IPython.display import Markdown, display\n",
        "import os\n",
        "import google.generativeai as genai\n",
        "\n",
        "from google.colab import userdata\n",
        "userdata.get('GOOGLE_API_KEY')\n",
        "\n",
        "# *** IMPORTANTE: Configure sua chave de API do Google AI Studio aqui ***\n",
        "# Você pode definir como variável de ambiente (recomendado):\n",
        "# Vá em \"Ambiente de execução\" -> \"Variáveis de ambiente\" e adicione\n",
        "# uma variável com nome: GOOGLE_API_KEY\n",
        "# e valor: SUA_CHAVE_DE_API\n",
        "\n",
        "# Ou, se preferir (MENOS SEGURO para compartilhar o notebook):\n",
        "# genai.configure(api_key=\"SUA_CHAVE_DE_API_AQUI\")\n",
        "\n",
        "# Se a variável de ambiente estiver configurada, a linha abaixo irá carregá-la:\n",
        "#genai.configure(api_key=os.environ.get(\"GOOGLE_API_KEY\"))\n",
        "\n",
        "os.environ[\"GOOGLE_API_KEY\"] = userdata.get(\"GOOGLE_API_KEY\")\n",
        "genai.configure(api_key=os.environ[\"GOOGLE_API_KEY\"])\n",
        "\n",
        "# Seleciona o modelo gemini-2.0-flash\n",
        "model = genai.GenerativeModel('gemini-2.0-flash')"
      ],
      "metadata": {
        "id": "gn7cBkvMLb2D"
      },
      "execution_count": 2,
      "outputs": []
    },
    {
      "cell_type": "code",
      "source": [
        "estilos_arte = [\n",
        "    \"Realismo\", \"Surrealismo\", \"Impressionismo\", \"Expressionismo\", \"Cubismo\",\n",
        "    \"Fauvismo\", \"Art Nouveau\", \"Art Deco\", \"Barroco\", \"Rococó\",\n",
        "    \"Gótico\", \"Renascimento\", \"Romantismo\", \"Abstracionismo\", \"Pop Art\",\n",
        "    \"Op Art\", \"Minimalismo\", \"Bauhaus\", \"Dadaísmo\", \"Futurismo\",\n",
        "    \"Simbolismo\", \"Pointilhismo\", \"Hiper-realismo\", \"Cartoon\", \"Mangá\",\n",
        "    \"Anime dos anos 90\", \"Steampunk\", \"Cyberpunk\", \"Vaporwave\", \"Synthwave\",\n",
        "    \"Pixel Art\", \"Low Poly\", \"Ilustração Infantil\", \"Aquarela\", \"Óleo sobre tela\",\n",
        "    \"Grafite\", \"Escultura\", \"Fotografia\", \"Arte conceitual\", \"Bobbie Goods\",\n",
        "    \"Ukiyo-e\", \"Arte bizantina\", \"Arte egípcia\", \"Arte grega antiga\", \"Arte romana\",\n",
        "    \"Arte medieval\", \"Renascimento nórdico\", \"Neoclassicismo\", \"Pós-impressionismo\"\n",
        "]"
      ],
      "metadata": {
        "id": "d5GaaXJSLb6t"
      },
      "execution_count": 3,
      "outputs": []
    },
    {
      "cell_type": "code",
      "source": [
        "def apresentar_robo_berry():\n",
        "    apresentacao = \"\"\"\n",
        "<div style=\"background-color:#f0f8ff; padding: 15px; border-radius: 10px;\">\n",
        "    <h2 style=\"color:#4682B4;\">🤖 Olá! Eu sou o Robô Berry!</h2>\n",
        "    <p>Ainda não consigo gerar uma imagem para você baixar, mas consigo te ajudar a criar <b>ótimos prompts</b> (ordens) para que você envie no meu parceiro <a href=\"https://gemini.google.com\" target=\"_blank\" style=\"color:#008080; text-decoration: none;\">gemini.google.com</a> e ele crie essa imagem para você!</p>\n",
        "    <p><b>Como funciona?</b> 🤔 Vou te fazer algumas perguntas e, no final, entregarei dois textos (prompts)! Um baseado nas suas respostas e outro sugerido por IA! Você pode copiar e colar qualquer um deles no link que vou deixar para você.</p>\n",
        "    <p><span style=\"color:#FFA07A;\">💡 Dica:</span> Caso não saiba a resposta, pode apenas deixar em branco, eu me vira com o que tenho. A parte de \"<span style=\"color:#9932CC;\">Sentimento</span>\" é muito legal! Se possível, sempre preencha ela.</p>\n",
        "    <p style=\"color:#228B22;\">Ficarei feliz em ajudar! 😄</p>\n",
        "</div>\n",
        "\"\"\"\n",
        "    display(Markdown(apresentacao))"
      ],
      "metadata": {
        "id": "Pcsh715WLb80"
      },
      "execution_count": 4,
      "outputs": []
    },
    {
      "cell_type": "code",
      "source": [
        "def gerar_prompt():\n",
        "    respostas = {}\n",
        "\n",
        "    def perguntar(numero, pergunta, alternativas=None):\n",
        "        rprint(f\"\\n[bold blue]{numero})[/bold blue] [bold]{pergunta}[/bold]\")\n",
        "        if alternativas:\n",
        "            for letra, opcao in alternativas.items():\n",
        "                rprint(f\"   [bold green]{letra})[/bold green] {opcao}\")\n",
        "            resposta = input(\"Sua resposta (pela letra ou digite): \").strip()\n",
        "            if resposta.lower() in alternativas:\n",
        "                return resposta, alternativas[resposta.lower()]\n",
        "            else:\n",
        "                return resposta, resposta\n",
        "        else:\n",
        "            resposta = input(\"Sua resposta: \").strip()\n",
        "            return resposta, resposta\n",
        "\n",
        "    respostas[\"tema\"], _ = perguntar(1, \"Tema central da imagem.\\nEx.: Uma paisagem calma; um personagem mitológico; Um sentimento abstrato; etc..\")\n",
        "    print() # Adiciona espaço\n",
        "    respostas[\"ambientacao\"], _ = perguntar(2, \"Ambientação. Onde essa imagem está?\\nEx.: \\\"Um castelo abandonado\\\"; \\\"Uma sala escura\\\"; \\\"Um restaurante futurista\\\"; etc..\")\n",
        "    print() # Adiciona espaço\n",
        "    exemplos_estilos = random.sample(estilos_arte, min(3, len(estilos_arte)))\n",
        "    pergunta_estilo = f\"Estilo artístico da imagem.\\nEx.: {exemplos_estilos[0]}, {exemplos_estilos[1]}, {exemplos_estilos[2]}\"\n",
        "    respostas[\"estilo\"], _ = perguntar(3, pergunta_estilo)\n",
        "    print() # Adiciona espaço\n",
        "    respostas[\"finalidade\"], _ = perguntar(4, \"Finalidade da imagem.\\nEx.: \\\"Enviar por aplicativo de mensagem\\\"; \\\"Imprimir em tamanho A4\\\"; \\\"Logo para meu negócio\\\".\")\n",
        "    print() # Adiciona espaço\n",
        "    respostas[\"sentimento\"], _ = perguntar(5, \"Sentimento. Qual sentimento essa imagem deve transmitir?\\nEx.: \\\"Felicidade\\\"; \\\"Angústia\\\"; \\\"Esperança\\\".\")\n",
        "    print() # Adiciona espaço\n",
        "    respostas[\"iluminacao\"], _ = perguntar(6, \"Iluminação. (Se não souber, pode deixar em branco que eu me vira!)\\nEx.: \\\"Luz matinal\\\"; \\\"Luz artificial\\\"; \\\"Tons de verde\\\"\")\n",
        "    print() # Adiciona espaço\n",
        "    respostas[\"paleta_cores\"], _ = perguntar(7, \"Paleta de cores.\\nEx.: \\\"Tons pastéis\\\"; \\\"Neon\\\"; \\\"Cores vibrantes\\\".\")\n",
        "    print() # Adiciona espaço\n",
        "    respostas[\"texto\"], _ = perguntar(8, \"Estamos quase no final!! Deseja algum TEXTO? O ideal são frases de até 10 palavras. (Essa é uma função bem difícil para o meu amigo executar, talvez o resultado não saia como o esperado)\\nEx.: \\\"Bom dia! Que o dia seja maravilhoso para você!\\\"; \\\"VAMO PARA CIMA! HADOUKEN!!!\\\"; etc..\")\n",
        "    print() # Adiciona espaço\n",
        "    alternativas_composicao = {\n",
        "        \"a\": \"Frontal\",\n",
        "        \"b\": \"De cima\",\n",
        "        \"c\": \"Lateral\",\n",
        "        \"d\": \"Close-up\",\n",
        "        \"e\": \"Plano aberto\"\n",
        "    }\n",
        "    resposta_composicao, texto_composicao = perguntar(9, \"Composição, ângulo e enquadramento.\", alternativas_composicao)\n",
        "    respostas[\"composicao\"] = resposta_composicao\n",
        "    respostas[\"composicao_texto\"] = texto_composicao\n",
        "    print() # Adiciona espaço\n",
        "    respostas[\"restricao\"], _ = perguntar(10, \"Faltou algo? Tem alguma restrição? Pode colocar aqui!\\nEx.: \\\"Não quero fadas na minha imagem\\\"; \\\"Incluir um pouco de glitter em todas as superfícies\\\"; \\\"Quero uma imagem em baixíssima qualidade\\\"; etc..\")\n",
        "    print() # Adiciona espaço\n",
        "\n",
        "    return respostas"
      ],
      "metadata": {
        "id": "ed4lCq41Lb-x"
      },
      "execution_count": 5,
      "outputs": []
    },
    {
      "cell_type": "code",
      "source": [
        "from rich import print as rprint\n",
        "from rich.style import Style\n",
        "\n",
        "def formatar_prompt(respostas):\n",
        "    prompt_original = \"\"\n",
        "    prompt_original += f\"Crie uma imagem de {respostas['tema']}.\\n\"\n",
        "    prompt_original += f\"A ambientação deve ser em {respostas['ambientacao']}.\\n\"\n",
        "    prompt_original += f\"O estilo é {respostas['estilo']}.\\n\"\n",
        "    prompt_original += f\"A finalidade é para {respostas['finalidade']}.\\n\"\n",
        "    prompt_original += f\"O sentimento é de {respostas['sentimento']}.\\n\"\n",
        "    prompt_original += f\"A iluminação é {respostas['iluminacao'] if respostas['iluminacao'] else 'não foi definida'}.\\n\"\n",
        "    prompt_original += f\"A paleta de cores é {respostas['paleta_cores'] if respostas['paleta_cores'] else 'não foi definida'}.\\n\"\n",
        "    prompt_original += f\"Texto: \\\"{respostas['texto']}\\\".\" if respostas['texto'] else \"\"\n",
        "    prompt_original += f\"\\nO enquadramento da imagem é {respostas['composicao_texto']}.\" if 'composicao_texto' in respostas else \"\"\n",
        "    prompt_original += f\"\\nConsidere que {respostas['restricao']}.\" if respostas['restricao'] else \"\"\n",
        "\n",
        "    prompt_ia = chamar_api_ia(prompt_original)\n",
        "\n",
        "    prompt_formatado_markdown = \"\"\n",
        "    for linha in prompt_original.split('\\n'):\n",
        "        prompt_formatado_markdown += f\"**<span style='color:gold;'>{linha}</span>**<br>\\n\"\n",
        "\n",
        "    mensagem_final = f\"\"\"\n",
        "<div style=\"background-color:#FFFACD; padding: 15px; border-radius: 10px;\">\n",
        "    <h2 style=\"color:#DAA520;\">✨ Seus Prompts para Comparação! ✨</h2>\n",
        "    <h3 style=\"color:#DAA520;\">Prompt Original (Baseado nas suas escolhas):</h3>\n",
        "    <p style=\"font-size: 1em; line-height: 1.4;\">{prompt_formatado_markdown}</p>\n",
        "    <hr style=\"border-top: 1px dashed #DAA520;\">\n",
        "    <h3 style=\"color:#8FBC8F;\">Prompt Sugerido pela IA:</h3>\n",
        "    <pre style=\"font-size: 1em; line-height: 1.4;\">{prompt_ia}</pre>\n",
        "    <hr style=\"border-top: 1px dashed #DAA520;\">\n",
        "    <p><b>Passo a passo:</b></p>\n",
        "    <ol>\n",
        "        <li>Copie o prompt desejado (Original ou IA) e cole no <a href=\"https://gemini.google.com\" target=\"_blank\" style=\"color:#008080; text-decoration: none;\">gemini.google.com</a> para gerar a imagem.</li>\n",
        "    </ol>\n",
        "</div>\n",
        "\"\"\"\n",
        "    display(Markdown(mensagem_final))\n",
        "    rprint(f\"[bold green]Prompt da IA:[/bold green]\\n{prompt_ia}\")\n",
        "    return prompt_original, prompt_ia"
      ],
      "metadata": {
        "id": "SpbinwT0LcA9"
      },
      "execution_count": 6,
      "outputs": []
    },
    {
      "cell_type": "code",
      "source": [
        "def chamar_api_ia(prompt_usuario):\n",
        "    \"\"\"\n",
        "    Chama o modelo Gemini Pro para gerar um prompt alternativo.\n",
        "    \"\"\"\n",
        "    if model is None:\n",
        "        return \"Erro: Modelo de IA não carregado.\"\n",
        "\n",
        "    prompt_de_geracao = f\"\"\"\n",
        "    Analise o seguinte prompt para geração de imagens:\n",
        "    '{prompt_usuario}'\n",
        "    Gere um prompt alternativo que possa produzir uma imagem visualmente interessante,\n",
        "    mantendo a essência do tema e do sentimento, mas talvez explorando um estilo artístico diferente\n",
        "    ou adicionando detalhes de iluminação e composição mais específicos.\n",
        "    O prompt gerado deve ser conciso e claro para um gerador de imagens de IA.\n",
        "    \"\"\"\n",
        "    try:\n",
        "        response = model.generate_content(prompt_de_geracao)\n",
        "        prompt_ia_gerado = response.text\n",
        "        return prompt_ia_gerado\n",
        "    except Exception as e:\n",
        "        return f\"Erro ao gerar prompt pela IA: {e}\""
      ],
      "metadata": {
        "id": "FqRTHJZJLcC5"
      },
      "execution_count": 7,
      "outputs": []
    },
    {
      "cell_type": "code",
      "source": [
        "def robo_berry():\n",
        "    historico_prompts = []\n",
        "    while True:\n",
        "        respostas = gerar_prompt()\n",
        "        prompt_original, prompt_ia = formatar_prompt(respostas)\n",
        "        historico_prompts.append((prompt_original, prompt_ia)) # Salvar ambos os prompts\n",
        "\n",
        "        print(\"\\nGostou? Quer fazer mais?\")\n",
        "        print(\"a) Fazer outro prompt.\")\n",
        "        print(\"b) Ver histórico de prompts.\")\n",
        "        print(\"c) Sair.\")\n",
        "\n",
        "        escolha = input(\"Sua escolha: \").lower()\n",
        "        if escolha == 'a':\n",
        "            continue\n",
        "        elif escolha == 'b':\n",
        "            if historico_prompts:\n",
        "                print(\"\\n✨ Seu Histórico de Prompts: ✨\")\n",
        "                for i, (original, ia) in enumerate(historico_prompts):\n",
        "                    print(f\"\\n{i+1}) Prompt Original:\\n{original}\\n   Prompt IA:\\n{ia}\")\n",
        "            else:\n",
        "                print(\"\\nSeu histórico está vazio!\")\n",
        "        elif escolha == 'c':\n",
        "            print(\"\\nFoi ótimo te ajudar! Se precisar de mais alguma coisa, é só chamar! 😊\")\n",
        "            break\n",
        "        else:\n",
        "            print(\"\\nOpção inválida. Por favor, escolha 'a', 'b' ou 'c'.\")\n",
        "\n",
        "# Iniciar o Robô Berry\n",
        "apresentar_robo_berry()\n",
        "robo_berry()"
      ],
      "metadata": {
        "colab": {
          "base_uri": "https://localhost:8080/",
          "height": 1000
        },
        "id": "fVI0KjLvLcFS",
        "outputId": "05bfbc52-f0c2-436a-e8f5-df629aa99b1d"
      },
      "execution_count": 8,
      "outputs": [
        {
          "output_type": "display_data",
          "data": {
            "text/plain": [
              "<IPython.core.display.Markdown object>"
            ],
            "text/markdown": "\n<div style=\"background-color:#f0f8ff; padding: 15px; border-radius: 10px;\">\n    <h2 style=\"color:#4682B4;\">🤖 Olá! Eu sou o Robô Berry!</h2>\n    <p>Ainda não consigo gerar uma imagem para você baixar, mas consigo te ajudar a criar <b>ótimos prompts</b> (ordens) para que você envie no meu parceiro <a href=\"https://gemini.google.com\" target=\"_blank\" style=\"color:#008080; text-decoration: none;\">gemini.google.com</a> e ele crie essa imagem para você!</p>\n    <p><b>Como funciona?</b> 🤔 Vou te fazer algumas perguntas e, no final, entregarei dois textos (prompts)! Um baseado nas suas respostas e outro sugerido por IA! Você pode copiar e colar qualquer um deles no link que vou deixar para você.</p>\n    <p><span style=\"color:#FFA07A;\">💡 Dica:</span> Caso não saiba a resposta, pode apenas deixar em branco, eu me vira com o que tenho. A parte de \"<span style=\"color:#9932CC;\">Sentimento</span>\" é muito legal! Se possível, sempre preencha ela.</p>\n    <p style=\"color:#228B22;\">Ficarei feliz em ajudar! 😄</p>\n</div>\n"
          },
          "metadata": {}
        },
        {
          "output_type": "display_data",
          "data": {
            "text/plain": [
              "\n",
              "\u001b[1;34m1\u001b[0m\u001b[1;34m)\u001b[0m \u001b[1mTema central da imagem.\u001b[0m\n",
              "\u001b[1mEx.: Uma paisagem calma; um personagem mitológico; Um sentimento abstrato; etc..\u001b[0m\n"
            ],
            "text/html": [
              "<pre style=\"white-space:pre;overflow-x:auto;line-height:normal;font-family:Menlo,'DejaVu Sans Mono',consolas,'Courier New',monospace\">\n",
              "<span style=\"color: #000080; text-decoration-color: #000080; font-weight: bold\">1</span><span style=\"color: #000080; text-decoration-color: #000080; font-weight: bold\">)</span> <span style=\"font-weight: bold\">Tema central da imagem.</span>\n",
              "<span style=\"font-weight: bold\">Ex.: Uma paisagem calma; um personagem mitológico; Um sentimento abstrato; etc..</span>\n",
              "</pre>\n"
            ]
          },
          "metadata": {}
        },
        {
          "output_type": "stream",
          "name": "stdout",
          "text": [
            "Sua resposta: cachorro preto\n",
            "\n"
          ]
        },
        {
          "output_type": "display_data",
          "data": {
            "text/plain": [
              "\n",
              "\u001b[1;34m2\u001b[0m\u001b[1;34m)\u001b[0m \u001b[1mAmbientação. Onde essa imagem está?\u001b[0m\n",
              "\u001b[1mEx.: \u001b[0m\u001b[1;32m\"Um castelo abandonado\"\u001b[0m\u001b[1m; \u001b[0m\u001b[1;32m\"Uma sala escura\"\u001b[0m\u001b[1m; \u001b[0m\u001b[1;32m\"Um restaurante futurista\"\u001b[0m\u001b[1m; etc..\u001b[0m\n"
            ],
            "text/html": [
              "<pre style=\"white-space:pre;overflow-x:auto;line-height:normal;font-family:Menlo,'DejaVu Sans Mono',consolas,'Courier New',monospace\">\n",
              "<span style=\"color: #000080; text-decoration-color: #000080; font-weight: bold\">2</span><span style=\"color: #000080; text-decoration-color: #000080; font-weight: bold\">)</span> <span style=\"font-weight: bold\">Ambientação. Onde essa imagem está?</span>\n",
              "<span style=\"font-weight: bold\">Ex.: </span><span style=\"color: #008000; text-decoration-color: #008000; font-weight: bold\">\"Um castelo abandonado\"</span><span style=\"font-weight: bold\">; </span><span style=\"color: #008000; text-decoration-color: #008000; font-weight: bold\">\"Uma sala escura\"</span><span style=\"font-weight: bold\">; </span><span style=\"color: #008000; text-decoration-color: #008000; font-weight: bold\">\"Um restaurante futurista\"</span><span style=\"font-weight: bold\">; etc..</span>\n",
              "</pre>\n"
            ]
          },
          "metadata": {}
        },
        {
          "output_type": "stream",
          "name": "stdout",
          "text": [
            "Sua resposta: restaurante\n",
            "\n"
          ]
        },
        {
          "output_type": "display_data",
          "data": {
            "text/plain": [
              "\n",
              "\u001b[1;34m3\u001b[0m\u001b[1;34m)\u001b[0m \u001b[1mEstilo artístico da imagem.\u001b[0m\n",
              "\u001b[1mEx.: Minimalismo, Arte romana, Ukiyo-e\u001b[0m\n"
            ],
            "text/html": [
              "<pre style=\"white-space:pre;overflow-x:auto;line-height:normal;font-family:Menlo,'DejaVu Sans Mono',consolas,'Courier New',monospace\">\n",
              "<span style=\"color: #000080; text-decoration-color: #000080; font-weight: bold\">3</span><span style=\"color: #000080; text-decoration-color: #000080; font-weight: bold\">)</span> <span style=\"font-weight: bold\">Estilo artístico da imagem.</span>\n",
              "<span style=\"font-weight: bold\">Ex.: Minimalismo, Arte romana, Ukiyo-e</span>\n",
              "</pre>\n"
            ]
          },
          "metadata": {}
        },
        {
          "output_type": "stream",
          "name": "stdout",
          "text": [
            "Sua resposta: ukiyo-e\n",
            "\n"
          ]
        },
        {
          "output_type": "display_data",
          "data": {
            "text/plain": [
              "\n",
              "\u001b[1;34m4\u001b[0m\u001b[1;34m)\u001b[0m \u001b[1mFinalidade da imagem.\u001b[0m\n",
              "\u001b[1mEx.: \u001b[0m\u001b[1;32m\"Enviar por aplicativo de mensagem\"\u001b[0m\u001b[1m; \u001b[0m\u001b[1;32m\"Imprimir em tamanho A4\"\u001b[0m\u001b[1m; \u001b[0m\u001b[1;32m\"Logo para meu negócio\"\u001b[0m\u001b[1m.\u001b[0m\n"
            ],
            "text/html": [
              "<pre style=\"white-space:pre;overflow-x:auto;line-height:normal;font-family:Menlo,'DejaVu Sans Mono',consolas,'Courier New',monospace\">\n",
              "<span style=\"color: #000080; text-decoration-color: #000080; font-weight: bold\">4</span><span style=\"color: #000080; text-decoration-color: #000080; font-weight: bold\">)</span> <span style=\"font-weight: bold\">Finalidade da imagem.</span>\n",
              "<span style=\"font-weight: bold\">Ex.: </span><span style=\"color: #008000; text-decoration-color: #008000; font-weight: bold\">\"Enviar por aplicativo de mensagem\"</span><span style=\"font-weight: bold\">; </span><span style=\"color: #008000; text-decoration-color: #008000; font-weight: bold\">\"Imprimir em tamanho A4\"</span><span style=\"font-weight: bold\">; </span><span style=\"color: #008000; text-decoration-color: #008000; font-weight: bold\">\"Logo para meu negócio\"</span><span style=\"font-weight: bold\">.</span>\n",
              "</pre>\n"
            ]
          },
          "metadata": {}
        },
        {
          "output_type": "stream",
          "name": "stdout",
          "text": [
            "Sua resposta: enviar por wpp\n",
            "\n"
          ]
        },
        {
          "output_type": "display_data",
          "data": {
            "text/plain": [
              "\n",
              "\u001b[1;34m5\u001b[0m\u001b[1;34m)\u001b[0m \u001b[1mSentimento. Qual sentimento essa imagem deve transmitir?\u001b[0m\n",
              "\u001b[1mEx.: \u001b[0m\u001b[1;32m\"Felicidade\"\u001b[0m\u001b[1m; \u001b[0m\u001b[1;32m\"Angústia\"\u001b[0m\u001b[1m; \u001b[0m\u001b[1;32m\"Esperança\"\u001b[0m\u001b[1m.\u001b[0m\n"
            ],
            "text/html": [
              "<pre style=\"white-space:pre;overflow-x:auto;line-height:normal;font-family:Menlo,'DejaVu Sans Mono',consolas,'Courier New',monospace\">\n",
              "<span style=\"color: #000080; text-decoration-color: #000080; font-weight: bold\">5</span><span style=\"color: #000080; text-decoration-color: #000080; font-weight: bold\">)</span> <span style=\"font-weight: bold\">Sentimento. Qual sentimento essa imagem deve transmitir?</span>\n",
              "<span style=\"font-weight: bold\">Ex.: </span><span style=\"color: #008000; text-decoration-color: #008000; font-weight: bold\">\"Felicidade\"</span><span style=\"font-weight: bold\">; </span><span style=\"color: #008000; text-decoration-color: #008000; font-weight: bold\">\"Angústia\"</span><span style=\"font-weight: bold\">; </span><span style=\"color: #008000; text-decoration-color: #008000; font-weight: bold\">\"Esperança\"</span><span style=\"font-weight: bold\">.</span>\n",
              "</pre>\n"
            ]
          },
          "metadata": {}
        },
        {
          "output_type": "stream",
          "name": "stdout",
          "text": [
            "Sua resposta: esperança\n",
            "\n"
          ]
        },
        {
          "output_type": "display_data",
          "data": {
            "text/plain": [
              "\n",
              "\u001b[1;34m6\u001b[0m\u001b[1;34m)\u001b[0m \u001b[1mIluminação. \u001b[0m\u001b[1m(\u001b[0m\u001b[1mSe não souber, pode deixar em branco que eu me vira!\u001b[0m\u001b[1m)\u001b[0m\n",
              "\u001b[1mEx.: \u001b[0m\u001b[1;32m\"Luz matinal\"\u001b[0m\u001b[1m; \u001b[0m\u001b[1;32m\"Luz artificial\"\u001b[0m\u001b[1m; \u001b[0m\u001b[1;32m\"Tons de verde\"\u001b[0m\n"
            ],
            "text/html": [
              "<pre style=\"white-space:pre;overflow-x:auto;line-height:normal;font-family:Menlo,'DejaVu Sans Mono',consolas,'Courier New',monospace\">\n",
              "<span style=\"color: #000080; text-decoration-color: #000080; font-weight: bold\">6</span><span style=\"color: #000080; text-decoration-color: #000080; font-weight: bold\">)</span> <span style=\"font-weight: bold\">Iluminação. (Se não souber, pode deixar em branco que eu me vira!)</span>\n",
              "<span style=\"font-weight: bold\">Ex.: </span><span style=\"color: #008000; text-decoration-color: #008000; font-weight: bold\">\"Luz matinal\"</span><span style=\"font-weight: bold\">; </span><span style=\"color: #008000; text-decoration-color: #008000; font-weight: bold\">\"Luz artificial\"</span><span style=\"font-weight: bold\">; </span><span style=\"color: #008000; text-decoration-color: #008000; font-weight: bold\">\"Tons de verde\"</span>\n",
              "</pre>\n"
            ]
          },
          "metadata": {}
        },
        {
          "output_type": "stream",
          "name": "stdout",
          "text": [
            "Sua resposta: \n",
            "\n"
          ]
        },
        {
          "output_type": "display_data",
          "data": {
            "text/plain": [
              "\n",
              "\u001b[1;34m7\u001b[0m\u001b[1;34m)\u001b[0m \u001b[1mPaleta de cores.\u001b[0m\n",
              "\u001b[1mEx.: \u001b[0m\u001b[1;32m\"Tons pastéis\"\u001b[0m\u001b[1m; \u001b[0m\u001b[1;32m\"Neon\"\u001b[0m\u001b[1m; \u001b[0m\u001b[1;32m\"Cores vibrantes\"\u001b[0m\u001b[1m.\u001b[0m\n"
            ],
            "text/html": [
              "<pre style=\"white-space:pre;overflow-x:auto;line-height:normal;font-family:Menlo,'DejaVu Sans Mono',consolas,'Courier New',monospace\">\n",
              "<span style=\"color: #000080; text-decoration-color: #000080; font-weight: bold\">7</span><span style=\"color: #000080; text-decoration-color: #000080; font-weight: bold\">)</span> <span style=\"font-weight: bold\">Paleta de cores.</span>\n",
              "<span style=\"font-weight: bold\">Ex.: </span><span style=\"color: #008000; text-decoration-color: #008000; font-weight: bold\">\"Tons pastéis\"</span><span style=\"font-weight: bold\">; </span><span style=\"color: #008000; text-decoration-color: #008000; font-weight: bold\">\"Neon\"</span><span style=\"font-weight: bold\">; </span><span style=\"color: #008000; text-decoration-color: #008000; font-weight: bold\">\"Cores vibrantes\"</span><span style=\"font-weight: bold\">.</span>\n",
              "</pre>\n"
            ]
          },
          "metadata": {}
        },
        {
          "output_type": "stream",
          "name": "stdout",
          "text": [
            "Sua resposta: \n",
            "\n"
          ]
        },
        {
          "output_type": "display_data",
          "data": {
            "text/plain": [
              "\n",
              "\u001b[1;34m8\u001b[0m\u001b[1;34m)\u001b[0m \u001b[1mEstamos quase no final!! Deseja algum TEXTO? O ideal são frases de até \u001b[0m\u001b[1;36m10\u001b[0m\u001b[1m palavras. \u001b[0m\u001b[1m(\u001b[0m\u001b[1mEssa é uma função bem \u001b[0m\n",
              "\u001b[1mdifícil para o meu amigo executar, talvez o resultado não saia como o esperado\u001b[0m\u001b[1m)\u001b[0m\n",
              "\u001b[1mEx.: \u001b[0m\u001b[1;32m\"Bom dia! Que o dia seja maravilhoso para você!\"\u001b[0m\u001b[1m; \u001b[0m\u001b[1;32m\"VAMO PARA CIMA! HADOUKEN!!!\"\u001b[0m\u001b[1m; etc..\u001b[0m\n"
            ],
            "text/html": [
              "<pre style=\"white-space:pre;overflow-x:auto;line-height:normal;font-family:Menlo,'DejaVu Sans Mono',consolas,'Courier New',monospace\">\n",
              "<span style=\"color: #000080; text-decoration-color: #000080; font-weight: bold\">8</span><span style=\"color: #000080; text-decoration-color: #000080; font-weight: bold\">)</span> <span style=\"font-weight: bold\">Estamos quase no final!! Deseja algum TEXTO? O ideal são frases de até </span><span style=\"color: #008080; text-decoration-color: #008080; font-weight: bold\">10</span><span style=\"font-weight: bold\"> palavras. (Essa é uma função bem </span>\n",
              "<span style=\"font-weight: bold\">difícil para o meu amigo executar, talvez o resultado não saia como o esperado)</span>\n",
              "<span style=\"font-weight: bold\">Ex.: </span><span style=\"color: #008000; text-decoration-color: #008000; font-weight: bold\">\"Bom dia! Que o dia seja maravilhoso para você!\"</span><span style=\"font-weight: bold\">; </span><span style=\"color: #008000; text-decoration-color: #008000; font-weight: bold\">\"VAMO PARA CIMA! HADOUKEN!!!\"</span><span style=\"font-weight: bold\">; etc..</span>\n",
              "</pre>\n"
            ]
          },
          "metadata": {}
        },
        {
          "output_type": "stream",
          "name": "stdout",
          "text": [
            "Sua resposta: vai agora\n",
            "\n"
          ]
        },
        {
          "output_type": "display_data",
          "data": {
            "text/plain": [
              "\n",
              "\u001b[1;34m9\u001b[0m\u001b[1;34m)\u001b[0m \u001b[1mComposição, ângulo e enquadramento.\u001b[0m\n"
            ],
            "text/html": [
              "<pre style=\"white-space:pre;overflow-x:auto;line-height:normal;font-family:Menlo,'DejaVu Sans Mono',consolas,'Courier New',monospace\">\n",
              "<span style=\"color: #000080; text-decoration-color: #000080; font-weight: bold\">9</span><span style=\"color: #000080; text-decoration-color: #000080; font-weight: bold\">)</span> <span style=\"font-weight: bold\">Composição, ângulo e enquadramento.</span>\n",
              "</pre>\n"
            ]
          },
          "metadata": {}
        },
        {
          "output_type": "display_data",
          "data": {
            "text/plain": [
              "   \u001b[1;32ma\u001b[0m\u001b[1;32m)\u001b[0m Frontal\n"
            ],
            "text/html": [
              "<pre style=\"white-space:pre;overflow-x:auto;line-height:normal;font-family:Menlo,'DejaVu Sans Mono',consolas,'Courier New',monospace\">   <span style=\"color: #008000; text-decoration-color: #008000; font-weight: bold\">a)</span> Frontal\n",
              "</pre>\n"
            ]
          },
          "metadata": {}
        },
        {
          "output_type": "display_data",
          "data": {
            "text/plain": [
              "   \u001b[1;32mb\u001b[0m\u001b[1;32m)\u001b[0m De cima\n"
            ],
            "text/html": [
              "<pre style=\"white-space:pre;overflow-x:auto;line-height:normal;font-family:Menlo,'DejaVu Sans Mono',consolas,'Courier New',monospace\">   <span style=\"color: #008000; text-decoration-color: #008000; font-weight: bold\">b)</span> De cima\n",
              "</pre>\n"
            ]
          },
          "metadata": {}
        },
        {
          "output_type": "display_data",
          "data": {
            "text/plain": [
              "   \u001b[1;32mc\u001b[0m\u001b[1;32m)\u001b[0m Lateral\n"
            ],
            "text/html": [
              "<pre style=\"white-space:pre;overflow-x:auto;line-height:normal;font-family:Menlo,'DejaVu Sans Mono',consolas,'Courier New',monospace\">   <span style=\"color: #008000; text-decoration-color: #008000; font-weight: bold\">c)</span> Lateral\n",
              "</pre>\n"
            ]
          },
          "metadata": {}
        },
        {
          "output_type": "display_data",
          "data": {
            "text/plain": [
              "   \u001b[1;32md\u001b[0m\u001b[1;32m)\u001b[0m Close-up\n"
            ],
            "text/html": [
              "<pre style=\"white-space:pre;overflow-x:auto;line-height:normal;font-family:Menlo,'DejaVu Sans Mono',consolas,'Courier New',monospace\">   <span style=\"color: #008000; text-decoration-color: #008000; font-weight: bold\">d)</span> Close-up\n",
              "</pre>\n"
            ]
          },
          "metadata": {}
        },
        {
          "output_type": "display_data",
          "data": {
            "text/plain": [
              "   \u001b[1;32me\u001b[0m\u001b[1;32m)\u001b[0m Plano aberto\n"
            ],
            "text/html": [
              "<pre style=\"white-space:pre;overflow-x:auto;line-height:normal;font-family:Menlo,'DejaVu Sans Mono',consolas,'Courier New',monospace\">   <span style=\"color: #008000; text-decoration-color: #008000; font-weight: bold\">e)</span> Plano aberto\n",
              "</pre>\n"
            ]
          },
          "metadata": {}
        },
        {
          "output_type": "stream",
          "name": "stdout",
          "text": [
            "Sua resposta (pela letra ou digite): a\n",
            "\n"
          ]
        },
        {
          "output_type": "display_data",
          "data": {
            "text/plain": [
              "\n",
              "\u001b[1;34m10\u001b[0m\u001b[1;34m)\u001b[0m \u001b[1mFaltou algo? Tem alguma restrição? Pode colocar aqui!\u001b[0m\n",
              "\u001b[1mEx.: \u001b[0m\u001b[1;32m\"Não quero fadas na minha imagem\"\u001b[0m\u001b[1m; \u001b[0m\u001b[1;32m\"Incluir um pouco de glitter em todas as superfícies\"\u001b[0m\u001b[1m; \u001b[0m\u001b[1;32m\"Quero uma imagem em\u001b[0m\n",
              "\u001b[1;32mbaixíssima qualidade\"\u001b[0m\u001b[1m; etc..\u001b[0m\n"
            ],
            "text/html": [
              "<pre style=\"white-space:pre;overflow-x:auto;line-height:normal;font-family:Menlo,'DejaVu Sans Mono',consolas,'Courier New',monospace\">\n",
              "<span style=\"color: #000080; text-decoration-color: #000080; font-weight: bold\">10</span><span style=\"color: #000080; text-decoration-color: #000080; font-weight: bold\">)</span> <span style=\"font-weight: bold\">Faltou algo? Tem alguma restrição? Pode colocar aqui!</span>\n",
              "<span style=\"font-weight: bold\">Ex.: </span><span style=\"color: #008000; text-decoration-color: #008000; font-weight: bold\">\"Não quero fadas na minha imagem\"</span><span style=\"font-weight: bold\">; </span><span style=\"color: #008000; text-decoration-color: #008000; font-weight: bold\">\"Incluir um pouco de glitter em todas as superfícies\"</span><span style=\"font-weight: bold\">; </span><span style=\"color: #008000; text-decoration-color: #008000; font-weight: bold\">\"Quero uma imagem em</span>\n",
              "<span style=\"color: #008000; text-decoration-color: #008000; font-weight: bold\">baixíssima qualidade\"</span><span style=\"font-weight: bold\">; etc..</span>\n",
              "</pre>\n"
            ]
          },
          "metadata": {}
        },
        {
          "output_type": "stream",
          "name": "stdout",
          "text": [
            "Sua resposta: \n",
            "\n"
          ]
        },
        {
          "output_type": "display_data",
          "data": {
            "text/plain": [
              "<IPython.core.display.Markdown object>"
            ],
            "text/markdown": "\n<div style=\"background-color:#FFFACD; padding: 15px; border-radius: 10px;\">\n    <h2 style=\"color:#DAA520;\">✨ Seus Prompts para Comparação! ✨</h2>\n    <h3 style=\"color:#DAA520;\">Prompt Original (Baseado nas suas escolhas):</h3>\n    <p style=\"font-size: 1em; line-height: 1.4;\">**<span style='color:gold;'>Crie uma imagem de cachorro preto.</span>**<br>\n**<span style='color:gold;'>A ambientação deve ser em restaurante.</span>**<br>\n**<span style='color:gold;'>O estilo é ukiyo-e.</span>**<br>\n**<span style='color:gold;'>A finalidade é para enviar por wpp.</span>**<br>\n**<span style='color:gold;'>O sentimento é de esperança.</span>**<br>\n**<span style='color:gold;'>A iluminação é não foi definida.</span>**<br>\n**<span style='color:gold;'>A paleta de cores é não foi definida.</span>**<br>\n**<span style='color:gold;'>Texto: \"vai agora\".</span>**<br>\n**<span style='color:gold;'>O enquadramento da imagem é Frontal.</span>**<br>\n</p>\n    <hr style=\"border-top: 1px dashed #DAA520;\">\n    <h3 style=\"color:#8FBC8F;\">Prompt Sugerido pela IA:</h3>\n    <pre style=\"font-size: 1em; line-height: 1.4;\">**Prompt Alternativo:**\n\n\"Cachorro preto estilizado em aquarela, com olhar esperançoso, sentado à mesa de um restaurante aconchegante. Iluminação suave e difusa, vinda de uma janela lateral. Paleta de cores quentes e terrosas (tons de sépia, ocre, marrom e toques de vermelho). Texto flutuante em caligrafia cursiva: 'Vai Agora'. Enquadramento frontal, close-up no rosto do cachorro.\"\n</pre>\n    <hr style=\"border-top: 1px dashed #DAA520;\">\n    <p><b>Passo a passo:</b></p>\n    <ol>\n        <li>Copie o prompt desejado (Original ou IA) e cole no <a href=\"https://gemini.google.com\" target=\"_blank\" style=\"color:#008080; text-decoration: none;\">gemini.google.com</a> para gerar a imagem.</li>\n    </ol>\n</div>\n"
          },
          "metadata": {}
        },
        {
          "output_type": "display_data",
          "data": {
            "text/plain": [
              "\u001b[1;32mPrompt da IA:\u001b[0m\n",
              "**Prompt Alternativo:**\n",
              "\n",
              "\u001b[32m\"Cachorro preto estilizado em aquarela, com olhar esperançoso, sentado à mesa de um restaurante aconchegante. \u001b[0m\n",
              "\u001b[32mIluminação suave e difusa, vinda de uma janela lateral. Paleta de cores quentes e terrosas \u001b[0m\u001b[32m(\u001b[0m\u001b[32mtons de sépia, ocre, \u001b[0m\n",
              "\u001b[32mmarrom e toques de vermelho\u001b[0m\u001b[32m)\u001b[0m\u001b[32m. Texto flutuante em caligrafia cursiva: 'Vai Agora'. Enquadramento frontal, close-up \u001b[0m\n",
              "\u001b[32mno rosto do cachorro.\"\u001b[0m\n",
              "\n"
            ],
            "text/html": [
              "<pre style=\"white-space:pre;overflow-x:auto;line-height:normal;font-family:Menlo,'DejaVu Sans Mono',consolas,'Courier New',monospace\"><span style=\"color: #008000; text-decoration-color: #008000; font-weight: bold\">Prompt da IA:</span>\n",
              "**Prompt Alternativo:**\n",
              "\n",
              "<span style=\"color: #008000; text-decoration-color: #008000\">\"Cachorro preto estilizado em aquarela, com olhar esperançoso, sentado à mesa de um restaurante aconchegante. </span>\n",
              "<span style=\"color: #008000; text-decoration-color: #008000\">Iluminação suave e difusa, vinda de uma janela lateral. Paleta de cores quentes e terrosas (tons de sépia, ocre, </span>\n",
              "<span style=\"color: #008000; text-decoration-color: #008000\">marrom e toques de vermelho). Texto flutuante em caligrafia cursiva: 'Vai Agora'. Enquadramento frontal, close-up </span>\n",
              "<span style=\"color: #008000; text-decoration-color: #008000\">no rosto do cachorro.\"</span>\n",
              "\n",
              "</pre>\n"
            ]
          },
          "metadata": {}
        },
        {
          "output_type": "stream",
          "name": "stdout",
          "text": [
            "\n",
            "Gostou? Quer fazer mais?\n",
            "a) Fazer outro prompt.\n",
            "b) Ver histórico de prompts.\n",
            "c) Sair.\n",
            "Sua escolha: b\n",
            "\n",
            "✨ Seu Histórico de Prompts: ✨\n",
            "\n",
            "1) Prompt Original:\n",
            "Crie uma imagem de cachorro preto.\n",
            "A ambientação deve ser em restaurante.\n",
            "O estilo é ukiyo-e.\n",
            "A finalidade é para enviar por wpp.\n",
            "O sentimento é de esperança.\n",
            "A iluminação é não foi definida.\n",
            "A paleta de cores é não foi definida.\n",
            "Texto: \"vai agora\".\n",
            "O enquadramento da imagem é Frontal.\n",
            "   Prompt IA:\n",
            "**Prompt Alternativo:**\n",
            "\n",
            "\"Cachorro preto estilizado em aquarela, com olhar esperançoso, sentado à mesa de um restaurante aconchegante. Iluminação suave e difusa, vinda de uma janela lateral. Paleta de cores quentes e terrosas (tons de sépia, ocre, marrom e toques de vermelho). Texto flutuante em caligrafia cursiva: 'Vai Agora'. Enquadramento frontal, close-up no rosto do cachorro.\"\n",
            "\n"
          ]
        },
        {
          "output_type": "display_data",
          "data": {
            "text/plain": [
              "\n",
              "\u001b[1;34m1\u001b[0m\u001b[1;34m)\u001b[0m \u001b[1mTema central da imagem.\u001b[0m\n",
              "\u001b[1mEx.: Uma paisagem calma; um personagem mitológico; Um sentimento abstrato; etc..\u001b[0m\n"
            ],
            "text/html": [
              "<pre style=\"white-space:pre;overflow-x:auto;line-height:normal;font-family:Menlo,'DejaVu Sans Mono',consolas,'Courier New',monospace\">\n",
              "<span style=\"color: #000080; text-decoration-color: #000080; font-weight: bold\">1</span><span style=\"color: #000080; text-decoration-color: #000080; font-weight: bold\">)</span> <span style=\"font-weight: bold\">Tema central da imagem.</span>\n",
              "<span style=\"font-weight: bold\">Ex.: Uma paisagem calma; um personagem mitológico; Um sentimento abstrato; etc..</span>\n",
              "</pre>\n"
            ]
          },
          "metadata": {}
        },
        {
          "output_type": "error",
          "ename": "KeyboardInterrupt",
          "evalue": "Interrupted by user",
          "traceback": [
            "\u001b[0;31m---------------------------------------------------------------------------\u001b[0m",
            "\u001b[0;31mKeyboardInterrupt\u001b[0m                         Traceback (most recent call last)",
            "\u001b[0;32m<ipython-input-8-0ed3f17354fc>\u001b[0m in \u001b[0;36m<cell line: 0>\u001b[0;34m()\u001b[0m\n\u001b[1;32m     29\u001b[0m \u001b[0;31m# Iniciar o Robô Berry\u001b[0m\u001b[0;34m\u001b[0m\u001b[0;34m\u001b[0m\u001b[0m\n\u001b[1;32m     30\u001b[0m \u001b[0mapresentar_robo_berry\u001b[0m\u001b[0;34m(\u001b[0m\u001b[0;34m)\u001b[0m\u001b[0;34m\u001b[0m\u001b[0;34m\u001b[0m\u001b[0m\n\u001b[0;32m---> 31\u001b[0;31m \u001b[0mrobo_berry\u001b[0m\u001b[0;34m(\u001b[0m\u001b[0;34m)\u001b[0m\u001b[0;34m\u001b[0m\u001b[0;34m\u001b[0m\u001b[0m\n\u001b[0m",
            "\u001b[0;32m<ipython-input-8-0ed3f17354fc>\u001b[0m in \u001b[0;36mrobo_berry\u001b[0;34m()\u001b[0m\n\u001b[1;32m      2\u001b[0m     \u001b[0mhistorico_prompts\u001b[0m \u001b[0;34m=\u001b[0m \u001b[0;34m[\u001b[0m\u001b[0;34m]\u001b[0m\u001b[0;34m\u001b[0m\u001b[0;34m\u001b[0m\u001b[0m\n\u001b[1;32m      3\u001b[0m     \u001b[0;32mwhile\u001b[0m \u001b[0;32mTrue\u001b[0m\u001b[0;34m:\u001b[0m\u001b[0;34m\u001b[0m\u001b[0;34m\u001b[0m\u001b[0m\n\u001b[0;32m----> 4\u001b[0;31m         \u001b[0mrespostas\u001b[0m \u001b[0;34m=\u001b[0m \u001b[0mgerar_prompt\u001b[0m\u001b[0;34m(\u001b[0m\u001b[0;34m)\u001b[0m\u001b[0;34m\u001b[0m\u001b[0;34m\u001b[0m\u001b[0m\n\u001b[0m\u001b[1;32m      5\u001b[0m         \u001b[0mprompt_original\u001b[0m\u001b[0;34m,\u001b[0m \u001b[0mprompt_ia\u001b[0m \u001b[0;34m=\u001b[0m \u001b[0mformatar_prompt\u001b[0m\u001b[0;34m(\u001b[0m\u001b[0mrespostas\u001b[0m\u001b[0;34m)\u001b[0m\u001b[0;34m\u001b[0m\u001b[0;34m\u001b[0m\u001b[0m\n\u001b[1;32m      6\u001b[0m         \u001b[0mhistorico_prompts\u001b[0m\u001b[0;34m.\u001b[0m\u001b[0mappend\u001b[0m\u001b[0;34m(\u001b[0m\u001b[0;34m(\u001b[0m\u001b[0mprompt_original\u001b[0m\u001b[0;34m,\u001b[0m \u001b[0mprompt_ia\u001b[0m\u001b[0;34m)\u001b[0m\u001b[0;34m)\u001b[0m \u001b[0;31m# Salvar ambos os prompts\u001b[0m\u001b[0;34m\u001b[0m\u001b[0;34m\u001b[0m\u001b[0m\n",
            "\u001b[0;32m<ipython-input-5-74ec8608fd0c>\u001b[0m in \u001b[0;36mgerar_prompt\u001b[0;34m()\u001b[0m\n\u001b[1;32m     16\u001b[0m             \u001b[0;32mreturn\u001b[0m \u001b[0mresposta\u001b[0m\u001b[0;34m,\u001b[0m \u001b[0mresposta\u001b[0m\u001b[0;34m\u001b[0m\u001b[0;34m\u001b[0m\u001b[0m\n\u001b[1;32m     17\u001b[0m \u001b[0;34m\u001b[0m\u001b[0m\n\u001b[0;32m---> 18\u001b[0;31m     \u001b[0mrespostas\u001b[0m\u001b[0;34m[\u001b[0m\u001b[0;34m\"tema\"\u001b[0m\u001b[0;34m]\u001b[0m\u001b[0;34m,\u001b[0m \u001b[0m_\u001b[0m \u001b[0;34m=\u001b[0m \u001b[0mperguntar\u001b[0m\u001b[0;34m(\u001b[0m\u001b[0;36m1\u001b[0m\u001b[0;34m,\u001b[0m \u001b[0;34m\"Tema central da imagem.\\nEx.: Uma paisagem calma; um personagem mitológico; Um sentimento abstrato; etc..\"\u001b[0m\u001b[0;34m)\u001b[0m\u001b[0;34m\u001b[0m\u001b[0;34m\u001b[0m\u001b[0m\n\u001b[0m\u001b[1;32m     19\u001b[0m     \u001b[0mprint\u001b[0m\u001b[0;34m(\u001b[0m\u001b[0;34m)\u001b[0m \u001b[0;31m# Adiciona espaço\u001b[0m\u001b[0;34m\u001b[0m\u001b[0;34m\u001b[0m\u001b[0m\n\u001b[1;32m     20\u001b[0m     \u001b[0mrespostas\u001b[0m\u001b[0;34m[\u001b[0m\u001b[0;34m\"ambientacao\"\u001b[0m\u001b[0;34m]\u001b[0m\u001b[0;34m,\u001b[0m \u001b[0m_\u001b[0m \u001b[0;34m=\u001b[0m \u001b[0mperguntar\u001b[0m\u001b[0;34m(\u001b[0m\u001b[0;36m2\u001b[0m\u001b[0;34m,\u001b[0m \u001b[0;34m\"Ambientação. Onde essa imagem está?\\nEx.: \\\"Um castelo abandonado\\\"; \\\"Uma sala escura\\\"; \\\"Um restaurante futurista\\\"; etc..\"\u001b[0m\u001b[0;34m)\u001b[0m\u001b[0;34m\u001b[0m\u001b[0;34m\u001b[0m\u001b[0m\n",
            "\u001b[0;32m<ipython-input-5-74ec8608fd0c>\u001b[0m in \u001b[0;36mperguntar\u001b[0;34m(numero, pergunta, alternativas)\u001b[0m\n\u001b[1;32m     13\u001b[0m                 \u001b[0;32mreturn\u001b[0m \u001b[0mresposta\u001b[0m\u001b[0;34m,\u001b[0m \u001b[0mresposta\u001b[0m\u001b[0;34m\u001b[0m\u001b[0;34m\u001b[0m\u001b[0m\n\u001b[1;32m     14\u001b[0m         \u001b[0;32melse\u001b[0m\u001b[0;34m:\u001b[0m\u001b[0;34m\u001b[0m\u001b[0;34m\u001b[0m\u001b[0m\n\u001b[0;32m---> 15\u001b[0;31m             \u001b[0mresposta\u001b[0m \u001b[0;34m=\u001b[0m \u001b[0minput\u001b[0m\u001b[0;34m(\u001b[0m\u001b[0;34m\"Sua resposta: \"\u001b[0m\u001b[0;34m)\u001b[0m\u001b[0;34m.\u001b[0m\u001b[0mstrip\u001b[0m\u001b[0;34m(\u001b[0m\u001b[0;34m)\u001b[0m\u001b[0;34m\u001b[0m\u001b[0;34m\u001b[0m\u001b[0m\n\u001b[0m\u001b[1;32m     16\u001b[0m             \u001b[0;32mreturn\u001b[0m \u001b[0mresposta\u001b[0m\u001b[0;34m,\u001b[0m \u001b[0mresposta\u001b[0m\u001b[0;34m\u001b[0m\u001b[0;34m\u001b[0m\u001b[0m\n\u001b[1;32m     17\u001b[0m \u001b[0;34m\u001b[0m\u001b[0m\n",
            "\u001b[0;32m/usr/local/lib/python3.11/dist-packages/ipykernel/kernelbase.py\u001b[0m in \u001b[0;36mraw_input\u001b[0;34m(self, prompt)\u001b[0m\n\u001b[1;32m   1175\u001b[0m                 \u001b[0;34m\"raw_input was called, but this frontend does not support input requests.\"\u001b[0m\u001b[0;34m\u001b[0m\u001b[0;34m\u001b[0m\u001b[0m\n\u001b[1;32m   1176\u001b[0m             )\n\u001b[0;32m-> 1177\u001b[0;31m         return self._input_request(\n\u001b[0m\u001b[1;32m   1178\u001b[0m             \u001b[0mstr\u001b[0m\u001b[0;34m(\u001b[0m\u001b[0mprompt\u001b[0m\u001b[0;34m)\u001b[0m\u001b[0;34m,\u001b[0m\u001b[0;34m\u001b[0m\u001b[0;34m\u001b[0m\u001b[0m\n\u001b[1;32m   1179\u001b[0m             \u001b[0mself\u001b[0m\u001b[0;34m.\u001b[0m\u001b[0m_parent_ident\u001b[0m\u001b[0;34m[\u001b[0m\u001b[0;34m\"shell\"\u001b[0m\u001b[0;34m]\u001b[0m\u001b[0;34m,\u001b[0m\u001b[0;34m\u001b[0m\u001b[0;34m\u001b[0m\u001b[0m\n",
            "\u001b[0;32m/usr/local/lib/python3.11/dist-packages/ipykernel/kernelbase.py\u001b[0m in \u001b[0;36m_input_request\u001b[0;34m(self, prompt, ident, parent, password)\u001b[0m\n\u001b[1;32m   1217\u001b[0m             \u001b[0;32mexcept\u001b[0m \u001b[0mKeyboardInterrupt\u001b[0m\u001b[0;34m:\u001b[0m\u001b[0;34m\u001b[0m\u001b[0;34m\u001b[0m\u001b[0m\n\u001b[1;32m   1218\u001b[0m                 \u001b[0;31m# re-raise KeyboardInterrupt, to truncate traceback\u001b[0m\u001b[0;34m\u001b[0m\u001b[0;34m\u001b[0m\u001b[0m\n\u001b[0;32m-> 1219\u001b[0;31m                 \u001b[0;32mraise\u001b[0m \u001b[0mKeyboardInterrupt\u001b[0m\u001b[0;34m(\u001b[0m\u001b[0;34m\"Interrupted by user\"\u001b[0m\u001b[0;34m)\u001b[0m \u001b[0;32mfrom\u001b[0m \u001b[0;32mNone\u001b[0m\u001b[0;34m\u001b[0m\u001b[0;34m\u001b[0m\u001b[0m\n\u001b[0m\u001b[1;32m   1220\u001b[0m             \u001b[0;32mexcept\u001b[0m \u001b[0mException\u001b[0m\u001b[0;34m:\u001b[0m\u001b[0;34m\u001b[0m\u001b[0;34m\u001b[0m\u001b[0m\n\u001b[1;32m   1221\u001b[0m                 \u001b[0mself\u001b[0m\u001b[0;34m.\u001b[0m\u001b[0mlog\u001b[0m\u001b[0;34m.\u001b[0m\u001b[0mwarning\u001b[0m\u001b[0;34m(\u001b[0m\u001b[0;34m\"Invalid Message:\"\u001b[0m\u001b[0;34m,\u001b[0m \u001b[0mexc_info\u001b[0m\u001b[0;34m=\u001b[0m\u001b[0;32mTrue\u001b[0m\u001b[0;34m)\u001b[0m\u001b[0;34m\u001b[0m\u001b[0;34m\u001b[0m\u001b[0m\n",
            "\u001b[0;31mKeyboardInterrupt\u001b[0m: Interrupted by user"
          ]
        }
      ]
    }
  ]
}